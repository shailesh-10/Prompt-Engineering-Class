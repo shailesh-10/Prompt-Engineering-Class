{
  "nbformat": 4,
  "nbformat_minor": 0,
  "metadata": {
    "colab": {
      "provenance": []
    },
    "kernelspec": {
      "name": "python3",
      "display_name": "Python 3"
    },
    "language_info": {
      "name": "python"
    }
  },
  "cells": [
    {
      "cell_type": "code",
      "execution_count": 1,
      "metadata": {
        "colab": {
          "base_uri": "https://localhost:8080/"
        },
        "id": "-ADxYpy3Elce",
        "outputId": "fabd6450-cf3b-49d4-9741-8e29a852b4d4"
      },
      "outputs": [
        {
          "output_type": "stream",
          "name": "stdout",
          "text": [
            "Collecting langchain\n",
            "  Downloading langchain-0.2.14-py3-none-any.whl.metadata (7.1 kB)\n",
            "Collecting groq\n",
            "  Downloading groq-0.10.0-py3-none-any.whl.metadata (13 kB)\n",
            "Requirement already satisfied: PyYAML>=5.3 in /usr/local/lib/python3.10/dist-packages (from langchain) (6.0.2)\n",
            "Requirement already satisfied: SQLAlchemy<3,>=1.4 in /usr/local/lib/python3.10/dist-packages (from langchain) (2.0.32)\n",
            "Requirement already satisfied: aiohttp<4.0.0,>=3.8.3 in /usr/local/lib/python3.10/dist-packages (from langchain) (3.10.5)\n",
            "Requirement already satisfied: async-timeout<5.0.0,>=4.0.0 in /usr/local/lib/python3.10/dist-packages (from langchain) (4.0.3)\n",
            "Collecting langchain-core<0.3.0,>=0.2.32 (from langchain)\n",
            "  Downloading langchain_core-0.2.35-py3-none-any.whl.metadata (6.2 kB)\n",
            "Collecting langchain-text-splitters<0.3.0,>=0.2.0 (from langchain)\n",
            "  Downloading langchain_text_splitters-0.2.2-py3-none-any.whl.metadata (2.1 kB)\n",
            "Collecting langsmith<0.2.0,>=0.1.17 (from langchain)\n",
            "  Downloading langsmith-0.1.106-py3-none-any.whl.metadata (13 kB)\n",
            "Requirement already satisfied: numpy<2,>=1 in /usr/local/lib/python3.10/dist-packages (from langchain) (1.26.4)\n",
            "Requirement already satisfied: pydantic<3,>=1 in /usr/local/lib/python3.10/dist-packages (from langchain) (2.8.2)\n",
            "Requirement already satisfied: requests<3,>=2 in /usr/local/lib/python3.10/dist-packages (from langchain) (2.32.3)\n",
            "Collecting tenacity!=8.4.0,<9.0.0,>=8.1.0 (from langchain)\n",
            "  Downloading tenacity-8.5.0-py3-none-any.whl.metadata (1.2 kB)\n",
            "Requirement already satisfied: anyio<5,>=3.5.0 in /usr/local/lib/python3.10/dist-packages (from groq) (3.7.1)\n",
            "Requirement already satisfied: distro<2,>=1.7.0 in /usr/lib/python3/dist-packages (from groq) (1.7.0)\n",
            "Collecting httpx<1,>=0.23.0 (from groq)\n",
            "  Downloading httpx-0.27.2-py3-none-any.whl.metadata (7.1 kB)\n",
            "Requirement already satisfied: sniffio in /usr/local/lib/python3.10/dist-packages (from groq) (1.3.1)\n",
            "Requirement already satisfied: typing-extensions<5,>=4.7 in /usr/local/lib/python3.10/dist-packages (from groq) (4.12.2)\n",
            "Requirement already satisfied: aiohappyeyeballs>=2.3.0 in /usr/local/lib/python3.10/dist-packages (from aiohttp<4.0.0,>=3.8.3->langchain) (2.4.0)\n",
            "Requirement already satisfied: aiosignal>=1.1.2 in /usr/local/lib/python3.10/dist-packages (from aiohttp<4.0.0,>=3.8.3->langchain) (1.3.1)\n",
            "Requirement already satisfied: attrs>=17.3.0 in /usr/local/lib/python3.10/dist-packages (from aiohttp<4.0.0,>=3.8.3->langchain) (24.2.0)\n",
            "Requirement already satisfied: frozenlist>=1.1.1 in /usr/local/lib/python3.10/dist-packages (from aiohttp<4.0.0,>=3.8.3->langchain) (1.4.1)\n",
            "Requirement already satisfied: multidict<7.0,>=4.5 in /usr/local/lib/python3.10/dist-packages (from aiohttp<4.0.0,>=3.8.3->langchain) (6.0.5)\n",
            "Requirement already satisfied: yarl<2.0,>=1.0 in /usr/local/lib/python3.10/dist-packages (from aiohttp<4.0.0,>=3.8.3->langchain) (1.9.4)\n",
            "Requirement already satisfied: idna>=2.8 in /usr/local/lib/python3.10/dist-packages (from anyio<5,>=3.5.0->groq) (3.7)\n",
            "Requirement already satisfied: exceptiongroup in /usr/local/lib/python3.10/dist-packages (from anyio<5,>=3.5.0->groq) (1.2.2)\n",
            "Requirement already satisfied: certifi in /usr/local/lib/python3.10/dist-packages (from httpx<1,>=0.23.0->groq) (2024.7.4)\n",
            "Collecting httpcore==1.* (from httpx<1,>=0.23.0->groq)\n",
            "  Downloading httpcore-1.0.5-py3-none-any.whl.metadata (20 kB)\n",
            "Collecting h11<0.15,>=0.13 (from httpcore==1.*->httpx<1,>=0.23.0->groq)\n",
            "  Downloading h11-0.14.0-py3-none-any.whl.metadata (8.2 kB)\n",
            "Collecting jsonpatch<2.0,>=1.33 (from langchain-core<0.3.0,>=0.2.32->langchain)\n",
            "  Downloading jsonpatch-1.33-py2.py3-none-any.whl.metadata (3.0 kB)\n",
            "Requirement already satisfied: packaging<25,>=23.2 in /usr/local/lib/python3.10/dist-packages (from langchain-core<0.3.0,>=0.2.32->langchain) (24.1)\n",
            "Collecting orjson<4.0.0,>=3.9.14 (from langsmith<0.2.0,>=0.1.17->langchain)\n",
            "  Downloading orjson-3.10.7-cp310-cp310-manylinux_2_17_x86_64.manylinux2014_x86_64.whl.metadata (50 kB)\n",
            "\u001b[2K     \u001b[90m━━━━━━━━━━━━━━━━━━━━━━━━━━━━━━━━━━━━━━━━\u001b[0m \u001b[32m50.4/50.4 kB\u001b[0m \u001b[31m693.9 kB/s\u001b[0m eta \u001b[36m0:00:00\u001b[0m\n",
            "\u001b[?25hRequirement already satisfied: annotated-types>=0.4.0 in /usr/local/lib/python3.10/dist-packages (from pydantic<3,>=1->langchain) (0.7.0)\n",
            "Requirement already satisfied: pydantic-core==2.20.1 in /usr/local/lib/python3.10/dist-packages (from pydantic<3,>=1->langchain) (2.20.1)\n",
            "Requirement already satisfied: charset-normalizer<4,>=2 in /usr/local/lib/python3.10/dist-packages (from requests<3,>=2->langchain) (3.3.2)\n",
            "Requirement already satisfied: urllib3<3,>=1.21.1 in /usr/local/lib/python3.10/dist-packages (from requests<3,>=2->langchain) (2.0.7)\n",
            "Requirement already satisfied: greenlet!=0.4.17 in /usr/local/lib/python3.10/dist-packages (from SQLAlchemy<3,>=1.4->langchain) (3.0.3)\n",
            "Collecting jsonpointer>=1.9 (from jsonpatch<2.0,>=1.33->langchain-core<0.3.0,>=0.2.32->langchain)\n",
            "  Downloading jsonpointer-3.0.0-py2.py3-none-any.whl.metadata (2.3 kB)\n",
            "Downloading langchain-0.2.14-py3-none-any.whl (997 kB)\n",
            "\u001b[2K   \u001b[90m━━━━━━━━━━━━━━━━━━━━━━━━━━━━━━━━━━━━━━━━\u001b[0m \u001b[32m997.8/997.8 kB\u001b[0m \u001b[31m37.4 MB/s\u001b[0m eta \u001b[36m0:00:00\u001b[0m\n",
            "\u001b[?25hDownloading groq-0.10.0-py3-none-any.whl (106 kB)\n",
            "\u001b[2K   \u001b[90m━━━━━━━━━━━━━━━━━━━━━━━━━━━━━━━━━━━━━━━━\u001b[0m \u001b[32m106.3/106.3 kB\u001b[0m \u001b[31m5.3 MB/s\u001b[0m eta \u001b[36m0:00:00\u001b[0m\n",
            "\u001b[?25hDownloading httpx-0.27.2-py3-none-any.whl (76 kB)\n",
            "\u001b[2K   \u001b[90m━━━━━━━━━━━━━━━━━━━━━━━━━━━━━━━━━━━━━━━━\u001b[0m \u001b[32m76.4/76.4 kB\u001b[0m \u001b[31m4.2 MB/s\u001b[0m eta \u001b[36m0:00:00\u001b[0m\n",
            "\u001b[?25hDownloading httpcore-1.0.5-py3-none-any.whl (77 kB)\n",
            "\u001b[2K   \u001b[90m━━━━━━━━━━━━━━━━━━━━━━━━━━━━━━━━━━━━━━━━\u001b[0m \u001b[32m77.9/77.9 kB\u001b[0m \u001b[31m4.3 MB/s\u001b[0m eta \u001b[36m0:00:00\u001b[0m\n",
            "\u001b[?25hDownloading langchain_core-0.2.35-py3-none-any.whl (394 kB)\n",
            "\u001b[2K   \u001b[90m━━━━━━━━━━━━━━━━━━━━━━━━━━━━━━━━━━━━━━━━\u001b[0m \u001b[32m394.9/394.9 kB\u001b[0m \u001b[31m20.4 MB/s\u001b[0m eta \u001b[36m0:00:00\u001b[0m\n",
            "\u001b[?25hDownloading langchain_text_splitters-0.2.2-py3-none-any.whl (25 kB)\n",
            "Downloading langsmith-0.1.106-py3-none-any.whl (150 kB)\n",
            "\u001b[2K   \u001b[90m━━━━━━━━━━━━━━━━━━━━━━━━━━━━━━━━━━━━━━━━\u001b[0m \u001b[32m150.6/150.6 kB\u001b[0m \u001b[31m8.2 MB/s\u001b[0m eta \u001b[36m0:00:00\u001b[0m\n",
            "\u001b[?25hDownloading tenacity-8.5.0-py3-none-any.whl (28 kB)\n",
            "Downloading jsonpatch-1.33-py2.py3-none-any.whl (12 kB)\n",
            "Downloading orjson-3.10.7-cp310-cp310-manylinux_2_17_x86_64.manylinux2014_x86_64.whl (141 kB)\n",
            "\u001b[2K   \u001b[90m━━━━━━━━━━━━━━━━━━━━━━━━━━━━━━━━━━━━━━━━\u001b[0m \u001b[32m141.9/141.9 kB\u001b[0m \u001b[31m7.4 MB/s\u001b[0m eta \u001b[36m0:00:00\u001b[0m\n",
            "\u001b[?25hDownloading h11-0.14.0-py3-none-any.whl (58 kB)\n",
            "\u001b[2K   \u001b[90m━━━━━━━━━━━━━━━━━━━━━━━━━━━━━━━━━━━━━━━━\u001b[0m \u001b[32m58.3/58.3 kB\u001b[0m \u001b[31m3.8 MB/s\u001b[0m eta \u001b[36m0:00:00\u001b[0m\n",
            "\u001b[?25hDownloading jsonpointer-3.0.0-py2.py3-none-any.whl (7.6 kB)\n",
            "Installing collected packages: tenacity, orjson, jsonpointer, h11, jsonpatch, httpcore, httpx, langsmith, groq, langchain-core, langchain-text-splitters, langchain\n",
            "  Attempting uninstall: tenacity\n",
            "    Found existing installation: tenacity 9.0.0\n",
            "    Uninstalling tenacity-9.0.0:\n",
            "      Successfully uninstalled tenacity-9.0.0\n",
            "Successfully installed groq-0.10.0 h11-0.14.0 httpcore-1.0.5 httpx-0.27.2 jsonpatch-1.33 jsonpointer-3.0.0 langchain-0.2.14 langchain-core-0.2.35 langchain-text-splitters-0.2.2 langsmith-0.1.106 orjson-3.10.7 tenacity-8.5.0\n",
            "Collecting langchain-groq\n",
            "  Downloading langchain_groq-0.1.9-py3-none-any.whl.metadata (2.9 kB)\n",
            "Requirement already satisfied: groq in /usr/local/lib/python3.10/dist-packages (0.10.0)\n",
            "Requirement already satisfied: langchain-core<0.3.0,>=0.2.26 in /usr/local/lib/python3.10/dist-packages (from langchain-groq) (0.2.35)\n",
            "Requirement already satisfied: anyio<5,>=3.5.0 in /usr/local/lib/python3.10/dist-packages (from groq) (3.7.1)\n",
            "Requirement already satisfied: distro<2,>=1.7.0 in /usr/lib/python3/dist-packages (from groq) (1.7.0)\n",
            "Requirement already satisfied: httpx<1,>=0.23.0 in /usr/local/lib/python3.10/dist-packages (from groq) (0.27.2)\n",
            "Requirement already satisfied: pydantic<3,>=1.9.0 in /usr/local/lib/python3.10/dist-packages (from groq) (2.8.2)\n",
            "Requirement already satisfied: sniffio in /usr/local/lib/python3.10/dist-packages (from groq) (1.3.1)\n",
            "Requirement already satisfied: typing-extensions<5,>=4.7 in /usr/local/lib/python3.10/dist-packages (from groq) (4.12.2)\n",
            "Requirement already satisfied: idna>=2.8 in /usr/local/lib/python3.10/dist-packages (from anyio<5,>=3.5.0->groq) (3.7)\n",
            "Requirement already satisfied: exceptiongroup in /usr/local/lib/python3.10/dist-packages (from anyio<5,>=3.5.0->groq) (1.2.2)\n",
            "Requirement already satisfied: certifi in /usr/local/lib/python3.10/dist-packages (from httpx<1,>=0.23.0->groq) (2024.7.4)\n",
            "Requirement already satisfied: httpcore==1.* in /usr/local/lib/python3.10/dist-packages (from httpx<1,>=0.23.0->groq) (1.0.5)\n",
            "Requirement already satisfied: h11<0.15,>=0.13 in /usr/local/lib/python3.10/dist-packages (from httpcore==1.*->httpx<1,>=0.23.0->groq) (0.14.0)\n",
            "Requirement already satisfied: PyYAML>=5.3 in /usr/local/lib/python3.10/dist-packages (from langchain-core<0.3.0,>=0.2.26->langchain-groq) (6.0.2)\n",
            "Requirement already satisfied: jsonpatch<2.0,>=1.33 in /usr/local/lib/python3.10/dist-packages (from langchain-core<0.3.0,>=0.2.26->langchain-groq) (1.33)\n",
            "Requirement already satisfied: langsmith<0.2.0,>=0.1.75 in /usr/local/lib/python3.10/dist-packages (from langchain-core<0.3.0,>=0.2.26->langchain-groq) (0.1.106)\n",
            "Requirement already satisfied: packaging<25,>=23.2 in /usr/local/lib/python3.10/dist-packages (from langchain-core<0.3.0,>=0.2.26->langchain-groq) (24.1)\n",
            "Requirement already satisfied: tenacity!=8.4.0,<9.0.0,>=8.1.0 in /usr/local/lib/python3.10/dist-packages (from langchain-core<0.3.0,>=0.2.26->langchain-groq) (8.5.0)\n",
            "Requirement already satisfied: annotated-types>=0.4.0 in /usr/local/lib/python3.10/dist-packages (from pydantic<3,>=1.9.0->groq) (0.7.0)\n",
            "Requirement already satisfied: pydantic-core==2.20.1 in /usr/local/lib/python3.10/dist-packages (from pydantic<3,>=1.9.0->groq) (2.20.1)\n",
            "Requirement already satisfied: jsonpointer>=1.9 in /usr/local/lib/python3.10/dist-packages (from jsonpatch<2.0,>=1.33->langchain-core<0.3.0,>=0.2.26->langchain-groq) (3.0.0)\n",
            "Requirement already satisfied: orjson<4.0.0,>=3.9.14 in /usr/local/lib/python3.10/dist-packages (from langsmith<0.2.0,>=0.1.75->langchain-core<0.3.0,>=0.2.26->langchain-groq) (3.10.7)\n",
            "Requirement already satisfied: requests<3,>=2 in /usr/local/lib/python3.10/dist-packages (from langsmith<0.2.0,>=0.1.75->langchain-core<0.3.0,>=0.2.26->langchain-groq) (2.32.3)\n",
            "Requirement already satisfied: charset-normalizer<4,>=2 in /usr/local/lib/python3.10/dist-packages (from requests<3,>=2->langsmith<0.2.0,>=0.1.75->langchain-core<0.3.0,>=0.2.26->langchain-groq) (3.3.2)\n",
            "Requirement already satisfied: urllib3<3,>=1.21.1 in /usr/local/lib/python3.10/dist-packages (from requests<3,>=2->langsmith<0.2.0,>=0.1.75->langchain-core<0.3.0,>=0.2.26->langchain-groq) (2.0.7)\n",
            "Downloading langchain_groq-0.1.9-py3-none-any.whl (14 kB)\n",
            "Installing collected packages: langchain-groq\n",
            "Successfully installed langchain-groq-0.1.9\n"
          ]
        }
      ],
      "source": [
        "!pip install langchain groq\n",
        "!pip install langchain-groq groq"
      ]
    },
    {
      "cell_type": "code",
      "source": [
        "from langchain_groq import ChatGroq\n",
        "from langchain.chains import LLMChain, SimpleSequentialChain\n",
        "from langchain_core.messages import AIMessage, HumanMessage, SystemMessage\n",
        "from langchain.prompts import Prompt\n",
        "from langchain import PromptTemplate, LLMChain\n",
        "import os\n",
        "\n",
        "os.environ[\"GROQ_API_KEY\"] = \"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\"\n",
        "\n",
        "llm = ChatGroq(model_name=\"mixtral-8x7b-32768\")"
      ],
      "metadata": {
        "id": "JET896OLGNyw"
      },
      "execution_count": 2,
      "outputs": []
    },
    {
      "cell_type": "markdown",
      "source": [
        "Question 1: Chain-of-Thought Prompting [20 Marks]\n",
        "Implement a Chain-of-Thought prompting system to solve word problems. Your system should\n",
        "break down the problem-solving process into steps and show its reasoning.\n",
        "Task:\n",
        "● Create a function that takes a word problem as input.\n",
        "● Use the OpenAI API or any other LLM API to generate a step-by-step solution.\n",
        "● The output should show each step of the reasoning process.\n",
        "● Test your function with at least two word problems of varying complexity.\n",
        "Example word problem: \"A baker has 150 eggs. If each cake requires 3 eggs and each cookie\n",
        "requires 2 eggs, how many cakes and cookies can the baker make if they want to use all the\n",
        "eggs and make an equal number of each?"
      ],
      "metadata": {
        "id": "b1WbkkF8FYfH"
      }
    },
    {
      "cell_type": "code",
      "source": [
        "!pip install openai"
      ],
      "metadata": {
        "colab": {
          "base_uri": "https://localhost:8080/"
        },
        "id": "TSYp_r9jJMsY",
        "outputId": "de2d9cae-a5ce-4ec4-fb0b-4842b52670c7"
      },
      "execution_count": 5,
      "outputs": [
        {
          "output_type": "stream",
          "name": "stdout",
          "text": [
            "Collecting openai\n",
            "  Downloading openai-1.42.0-py3-none-any.whl.metadata (22 kB)\n",
            "Requirement already satisfied: anyio<5,>=3.5.0 in /usr/local/lib/python3.10/dist-packages (from openai) (3.7.1)\n",
            "Requirement already satisfied: distro<2,>=1.7.0 in /usr/lib/python3/dist-packages (from openai) (1.7.0)\n",
            "Requirement already satisfied: httpx<1,>=0.23.0 in /usr/local/lib/python3.10/dist-packages (from openai) (0.27.2)\n",
            "Collecting jiter<1,>=0.4.0 (from openai)\n",
            "  Downloading jiter-0.5.0-cp310-cp310-manylinux_2_17_x86_64.manylinux2014_x86_64.whl.metadata (3.6 kB)\n",
            "Requirement already satisfied: pydantic<3,>=1.9.0 in /usr/local/lib/python3.10/dist-packages (from openai) (2.8.2)\n",
            "Requirement already satisfied: sniffio in /usr/local/lib/python3.10/dist-packages (from openai) (1.3.1)\n",
            "Requirement already satisfied: tqdm>4 in /usr/local/lib/python3.10/dist-packages (from openai) (4.66.5)\n",
            "Requirement already satisfied: typing-extensions<5,>=4.11 in /usr/local/lib/python3.10/dist-packages (from openai) (4.12.2)\n",
            "Requirement already satisfied: idna>=2.8 in /usr/local/lib/python3.10/dist-packages (from anyio<5,>=3.5.0->openai) (3.7)\n",
            "Requirement already satisfied: exceptiongroup in /usr/local/lib/python3.10/dist-packages (from anyio<5,>=3.5.0->openai) (1.2.2)\n",
            "Requirement already satisfied: certifi in /usr/local/lib/python3.10/dist-packages (from httpx<1,>=0.23.0->openai) (2024.7.4)\n",
            "Requirement already satisfied: httpcore==1.* in /usr/local/lib/python3.10/dist-packages (from httpx<1,>=0.23.0->openai) (1.0.5)\n",
            "Requirement already satisfied: h11<0.15,>=0.13 in /usr/local/lib/python3.10/dist-packages (from httpcore==1.*->httpx<1,>=0.23.0->openai) (0.14.0)\n",
            "Requirement already satisfied: annotated-types>=0.4.0 in /usr/local/lib/python3.10/dist-packages (from pydantic<3,>=1.9.0->openai) (0.7.0)\n",
            "Requirement already satisfied: pydantic-core==2.20.1 in /usr/local/lib/python3.10/dist-packages (from pydantic<3,>=1.9.0->openai) (2.20.1)\n",
            "Downloading openai-1.42.0-py3-none-any.whl (362 kB)\n",
            "\u001b[2K   \u001b[90m━━━━━━━━━━━━━━━━━━━━━━━━━━━━━━━━━━━━━━━━\u001b[0m \u001b[32m362.9/362.9 kB\u001b[0m \u001b[31m16.2 MB/s\u001b[0m eta \u001b[36m0:00:00\u001b[0m\n",
            "\u001b[?25hDownloading jiter-0.5.0-cp310-cp310-manylinux_2_17_x86_64.manylinux2014_x86_64.whl (318 kB)\n",
            "\u001b[2K   \u001b[90m━━━━━━━━━━━━━━━━━━━━━━━━━━━━━━━━━━━━━━━━\u001b[0m \u001b[32m318.9/318.9 kB\u001b[0m \u001b[31m19.9 MB/s\u001b[0m eta \u001b[36m0:00:00\u001b[0m\n",
            "\u001b[?25hInstalling collected packages: jiter, openai\n",
            "Successfully installed jiter-0.5.0 openai-1.42.0\n"
          ]
        }
      ]
    },
    {
      "cell_type": "code",
      "source": [
        "import re\n",
        "from sympy import symbols, Eq, solve\n",
        "import openai\n",
        "\n",
        "openai.api_key = \"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\"\n",
        "\n",
        "\n",
        "def solve_algebraic_word_problem(problem):\n",
        "    # Define the variable\n",
        "    x = symbols('x')\n",
        "\n",
        "    # Convert the problem to lowercase for consistency\n",
        "    problem = problem.lower()\n",
        "\n",
        "    # Pattern for matching equations of the form \"ax + b = c\"\n",
        "    equation_pattern = re.compile(r'(\\d*)\\s*x\\s*([\\+\\-\\d]*)\\s*=\\s*(\\d+)')\n",
        "\n",
        "    # Try to find a match\n",
        "    match = equation_pattern.search(problem)\n",
        "    if match:\n",
        "        # Extract coefficients and constants\n",
        "        a = match.group(1)\n",
        "        b = match.group(2)\n",
        "        c = match.group(3)\n",
        "\n",
        "        # Handle cases where coefficient a is missing (assume a=1)\n",
        "        if a == '' or a == '+':\n",
        "            a = 1\n",
        "        elif a == '-':\n",
        "            a = -1\n",
        "        else:\n",
        "            a = int(a)\n",
        "\n",
        "        # Handle cases where constant b is missing (assume b=0)\n",
        "        if b == '' or b == '+':\n",
        "            b = 0\n",
        "        elif b == '-':\n",
        "            b = -1\n",
        "        else:\n",
        "            b = int(b)\n",
        "\n",
        "        # Convert to integer\n",
        "        c = int(c)\n",
        "\n",
        "        # Formulate the equation and solve\n",
        "        equation = Eq(a * x + b, c)\n",
        "        solution = solve(equation, x)\n",
        "        return solution[0]\n",
        "\n",
        "    return \"Sorry, I can't understand the problem.\"\n",
        "problem= \"\"\"\n",
        "Question: A gardener has 36 seeds. Each plant requires either 3 seeds for a rose or 4 seeds for a tulip. The gardener wants to use all the seeds and plant an equal number of roses and tulips.Answer: 10.\n",
        "Answer: 5.14\n",
        "\"\"\"\n",
        "human_message = HumanMessage(content=solve_algebraic_word_problem(problem))\n",
        "system_message = SystemMessage(content=\"You are helpful assistant.\")\n",
        "\n",
        "\n",
        "new_prompt = (system_message + human_message)\n",
        "\n",
        "print (f\"Prompt: {new_prompt}\")\n",
        "\n",
        "chain = LLMChain(llm=llm, prompt=new_prompt)\n",
        "reponse = chain.run({})\n",
        "print(f\"Response: {reponse}\")"
      ],
      "metadata": {
        "colab": {
          "base_uri": "https://localhost:8080/"
        },
        "id": "TrCPAeBoGkq3",
        "outputId": "80dfebb2-4a4c-491f-ca34-9694ea9b8d24"
      },
      "execution_count": 6,
      "outputs": [
        {
          "output_type": "stream",
          "name": "stdout",
          "text": [
            "Prompt: input_variables=[] messages=[SystemMessage(content='You are helpful assistant.'), HumanMessage(content=\"Sorry, I can't understand the problem.\")]\n",
            "Response: I apologize if I caused any confusion. To better assist you, could you please provide more context or clarify the problem or question you have? I'm here to help with a wide range of topics, including but not limited to coding, explaining concepts, and providing guidance on various issues. Looking forward to your response.\n"
          ]
        }
      ]
    },
    {
      "cell_type": "code",
      "source": [
        "example = \"\"\"\n",
        "Question: A plane takes off from a point on the floor of Death Valley which is 200 feet below sea level. The plane must clear an 800ft mountain by 300 ft. How many feet must the plane climb after takeoff to safely clear the mountain?\n",
        "Answer:\n",
        "\"\"\"\n",
        "human_message = HumanMessage(content=example)\n",
        "system_message = SystemMessage(content=\"You are helpful assistant.\")\n",
        "\n",
        "\n",
        "new_prompt = (system_message + human_message)\n",
        "\n",
        "print (f\"Prompt: {new_prompt}\")\n",
        "\n",
        "chain = LLMChain(llm=llm, prompt=new_prompt)\n",
        "reponse = chain.run({})\n",
        "print(f\"Response: {reponse}\")\n",
        ""
      ],
      "metadata": {
        "colab": {
          "base_uri": "https://localhost:8080/"
        },
        "id": "2N3R2baoOKyx",
        "outputId": "aa3b4ba5-3620-4936-df66-192a5a8fc5e6"
      },
      "execution_count": 14,
      "outputs": [
        {
          "output_type": "stream",
          "name": "stdout",
          "text": [
            "Prompt: input_variables=[] messages=[SystemMessage(content='You are helpful assistant.'), HumanMessage(content='\\nQuestion: A plane takes off from a point on the floor of Death Valley which is 200 feet below sea level. The plane must clear an 800ft mountain by 300 ft. How many feet must the plane climb after takeoff to safely clear the mountain?\\nAnswer: \\n')]\n",
            "Response: The plane needs to climb a total of 1100 feet after takeoff.\n",
            "\n",
            "Here's the reasoning:\n",
            "\n",
            "1. The mountain is 800 feet high and the plane needs to clear it by an additional 300 feet, so the total height the plane needs to clear is 800 + 300 = 1100 feet.\n",
            "2. The starting point of the plane is 200 feet below sea level. However, the question asks for the height the plane must climb after takeoff, not the total height it needs to reach.\n",
            "3. Therefore, the plane needs to climb 1100 feet after taking off from its initial position.\n"
          ]
        }
      ]
    },
    {
      "cell_type": "code",
      "source": [
        "example = \"\"\"\n",
        "Question: . If 37% of a number is 36, what is the number?\n",
        "Answer:\n",
        "\"\"\"\n",
        "human_message = HumanMessage(content=example)\n",
        "system_message = SystemMessage(content=\"You are helpful assistant.\")\n",
        "\n",
        "\n",
        "new_prompt = (system_message + human_message)\n",
        "\n",
        "print (f\"Prompt: {new_prompt}\")\n",
        "\n",
        "chain = LLMChain(llm=llm, prompt=new_prompt)\n",
        "reponse = chain.run({})\n",
        "print(f\"Response: {reponse}\")"
      ],
      "metadata": {
        "colab": {
          "base_uri": "https://localhost:8080/"
        },
        "id": "qFoETQHcO4Ug",
        "outputId": "3fdbad8c-a3ec-47eb-dc9c-2edf31655bdf"
      },
      "execution_count": 15,
      "outputs": [
        {
          "output_type": "stream",
          "name": "stdout",
          "text": [
            "Prompt: input_variables=[] messages=[SystemMessage(content='You are helpful assistant.'), HumanMessage(content='\\nQuestion: . If 37% of a number is 36, what is the number?\\nAnswer: \\n')]\n",
            "Response: To find the number, you can set up an equation. Let's denote the number as x. According to the question, 37% of x is 36. So, the equation is:\n",
            "\n",
            "0.37 * x = 36\n",
            "\n",
            "To solve for x, divide both sides by 0.37:\n",
            "\n",
            "x = 36 / 0.37\n",
            "x ≈ 97.2973\n",
            "\n",
            "So, the number is approximately 97.3 (when rounded to two decimal places).\n"
          ]
        }
      ]
    },
    {
      "cell_type": "markdown",
      "source": [
        "Develop a prompt-chaining system that generates a short story based on user input. The\n",
        "system should use multiple prompts in sequence, with each prompt building on the output of the\n",
        "previous one.\n",
        "Task:\n",
        "● Create a series of at least 3 prompts that will be chained together.\n",
        "● The first prompt should ask for a genre and main character.\n",
        "● Subsequent prompts should build on previous outputs to develop the plot and\n",
        "conclusion.\n",
        "● Implement the chaining logic to pass information between prompts.\n",
        "● Allow the user to input the initial genre and main character.\n",
        "● Output the final story generated through the chain."
      ],
      "metadata": {
        "id": "0jsRfLnaPL8R"
      }
    },
    {
      "cell_type": "code",
      "source": [
        "\n",
        "system_message = SystemMessage(content=\"You are a creative assistant for generating short stories.\")\n",
        "\n",
        "initial_prompt = HumanMessage(content=\"Provide a genre and a main character for a short story.\")\n",
        "\n",
        "chain1 = LLMChain(llm=llm, prompt=system_message + initial_prompt)\n",
        "response1 = chain1.run({})\n",
        "\n",
        "try:\n",
        "    genre, character = response1.split(', ')\n",
        "except ValueError as e:\n",
        "    print(f\"Error parsing response: {e}\")\n",
        "    genre, character = None, None\n",
        "\n",
        "# Example response\n",
        "response1 = \"Adventure, jumanji\"\n",
        "print(f\"Genre: {genre}, \\nCharacter: {character}\")\n",
        "\n",
        "# Prompt 2: Develop the plot based on the genre and character\n",
        "plot_prompt = HumanMessage(content=f\"Based on the genre '{genre}' and the main character '{character}', write a brief plot outline for a short story.\")\n",
        "\n",
        "# Create the chain and get the plot\n",
        "chain2 = LLMChain(llm=llm, prompt=system_message + plot_prompt)\n",
        "plot = chain2.run({})\n",
        "\n",
        "# Prompt 3: Write the conclusion based on the plot\n",
        "conclusion_prompt = HumanMessage(content=f\"Based on the plot outline provided, write the conclusion for the short story.\")\n",
        "\n",
        "# Create the chain and get the conclusion\n",
        "chain3 = LLMChain(llm=llm, prompt=system_message + conclusion_prompt)\n",
        "conclusion = chain3.run({})\n",
        "\n",
        "# Combine all parts to form the final story\n",
        "final_story = f\"Genre: {genre}\\nMain Character: {character}\\nPlot: {plot}\\nConclusion: {conclusion}\"\n",
        "print(final_story)"
      ],
      "metadata": {
        "colab": {
          "base_uri": "https://localhost:8080/"
        },
        "id": "YSMIoSi7P9VE",
        "outputId": "a3d6ffe0-a8eb-4082-85f3-cce6068d7716"
      },
      "execution_count": 19,
      "outputs": [
        {
          "output_type": "stream",
          "name": "stdout",
          "text": [
            "Error parsing response: not enough values to unpack (expected 2, got 1)\n",
            "Genre: None, \n",
            "Character: None\n",
            "Genre: None\n",
            "Main Character: None\n",
            "Plot: Title: The Infinite Blank\n",
            "\n",
            "In a universe where everything is written, there exists an entity known as the Scribe. This being has the unique ability to create stories that have never been told before. However, the Scribe is going through a creative crisis - they can't seem to think of a new story.\n",
            "\n",
            "One day, they stumble upon a mysterious, blank canvas. Drawn to it, they begin to create a character named None. None is a being without any traits, characteristics, or backstory. As the Scribe delves deeper into the creation of None, they realize that this character represents the ultimate freedom - the freedom to become anything.\n",
            "\n",
            "Intrigued, the Scribe decides to create a story around None. As they write, they explore various possibilities of what None could be. None becomes a warrior, a lover, a villain, a hero, and everything in between. The Scribe realizes that the infinite possibilities of None are a reflection of their own creativity.\n",
            "\n",
            "In the end, the Scribe understands that creativity is not about finding the perfect story, but about exploring the infinite blank spaces in between. The story concludes with the Scribe embracing the endless possibilities, ready to write new stories with renewed vigor and imagination.\n",
            "Conclusion: Plot Outline:\n",
            "\n",
            "The protagonist, an introverted high school student named Alex, discovers a mysterious, ancient map in the library. The map appears to lead to a hidden treasure located somewhere within the school grounds. With the help of their only friend, a mischievous and adventurous classmate named Jade, they embark on a daring quest to uncover the treasure. Along the way, they face various challenges and obstacles, including a strict vice principal, a labyrinthine school layout, and a rival group of students.\n",
            "\n",
            "Conclusion:\n",
            "\n",
            "With their hearts pounding, Alex and Jade found themselves standing before a seemingly ordinary wall in the school's basement. The ancient map, now crumpled and worn from their journey, indicated that this was their final destination. They exchanged nervous glances, unsure of what to expect.\n",
            "\n",
            "Jade, her eyes sparkling with determination, was the first to act. She pushed against the wall, and to their surprise, it swung open, revealing a hidden chamber. The room was illuminated by a soft, ethereal glow, and at its center lay a chest adorned with intricate carvings.\n",
            "\n",
            "As they approached the chest, the weight of their adventure bore down on them. They had faced numerous challenges and had even outsmarted their rivals. But what awaited them now?\n",
            "\n",
            "Together, they lifted the heavy lid, revealing the treasure within. To their astonishment, the chest was filled with old books, each one more valuable and rare than the last. It was a treasure trove of knowledge, a collection of stories that would inspire and educate generations to come.\n",
            "\n",
            "In that moment, Alex and Jade realized that their true reward was not the material wealth, but the memories they had created and the bond they had forged. They had embarked on an unforgettable adventure, one that would be passed down through the halls of their school for years to come.\n",
            "\n",
            "And so, with newfound confidence and a strengthened friendship, they stepped out of the hidden chamber, ready to face whatever challenges the future held. They were no longer just ordinary students; they were the heroes of a timeless tale, the discoverers of a literary treasure.\n"
          ]
        }
      ]
    },
    {
      "cell_type": "markdown",
      "source": [
        "Que 3)Implement a Tree-of-Thought prompting system to solve a complex problem. The system should\n",
        "explore multiple paths of reasoning and select the most promising one.\n",
        "Task:\n",
        "● Create a function that takes a complex problem as input.\n",
        "● Generate at least 3 different initial approaches to solving the problem.\n",
        "● For each approach, develop 2-3 possible next steps.\n",
        "● Implement a method to evaluate the promise of each path.\n",
        "● Select the most promising path and generate a final solution.\n",
        "● Test your system with the following problem:"
      ],
      "metadata": {
        "id": "OiOplpteQ85Z"
      }
    },
    {
      "cell_type": "code",
      "source": [
        "from langchain import PromptTemplate, LLMChain\n",
        "from langchain.chains import SimpleSequentialChain\n",
        "\n",
        "# First prompt template\n",
        "first_prompt = PromptTemplate(\n",
        "    input_variables=[\"topic\"],\n",
        "    template=\"Write a short introduction about {topic}.\"\n",
        ")\n",
        "\n",
        "# Second prompt template\n",
        "second_prompt = PromptTemplate(\n",
        "    input_variables=[\"introduction\"],\n",
        "    template=\"Based on this introduction, suggest 3 key points to expand upon: {introduction}\"\n",
        ")\n",
        "\n",
        "# Third prompt template\n",
        "third_prompt = PromptTemplate(\n",
        "    input_variables=[\"key_points\"],\n",
        "    template=\"For each of these key points, provide a brief explanation: {key_points}\"\n",
        ")\n",
        "\n",
        "# Create chains\n",
        "chain_one = LLMChain(llm=llm, prompt=first_prompt)\n",
        "chain_two = LLMChain(llm=llm, prompt=second_prompt)\n",
        "chain_three = LLMChain(llm=llm, prompt=third_prompt)\n",
        "\n",
        "# Create the sequential chain\n",
        "overall_chain = SimpleSequentialChain(\n",
        "    chains=[chain_one, chain_two, chain_three],\n",
        "    verbose=True\n",
        ")\n",
        "\n",
        "# Run the chain\n",
        "topic = \"Machine Learning\"\n",
        "result = overall_chain.run(topic)\n",
        "\n",
        "print(result)"
      ],
      "metadata": {
        "colab": {
          "base_uri": "https://localhost:8080/"
        },
        "id": "08iQ8OY4RBJk",
        "outputId": "1c48f056-41ca-4b4e-9c74-8550b9ea12ed"
      },
      "execution_count": 20,
      "outputs": [
        {
          "output_type": "stream",
          "name": "stdout",
          "text": [
            "\n",
            "\n",
            "\u001b[1m> Entering new SimpleSequentialChain chain...\u001b[0m\n",
            "\u001b[36;1m\u001b[1;3mMachine Learning (ML) is a subset of Artificial Intelligence (AI) that enables computer systems to automatically learn and improve from experience without being explicitly programmed. It involves the use of algorithms and statistical models that enable machines to analyze data, identify patterns, and make predictions or decisions based on that analysis.\n",
            "\n",
            "ML algorithms can be categorized into three main types: supervised learning, unsupervised learning, and reinforcement learning. In supervised learning, the algorithm is trained using labeled data, and its goal is to predict the correct output for new, unseen data. In unsupervised learning, the algorithm is trained using unlabeled data, and its goal is to discover hidden patterns or structures within the data. In reinforcement learning, the algorithm learns by interacting with its environment and receiving feedback in the form of rewards or penalties.\n",
            "\n",
            "ML has numerous applications in various fields, including healthcare, finance, e-commerce, social media, and transportation, among others. It is used for tasks such as image and speech recognition, fraud detection, recommendation systems, natural language processing, and autonomous driving, among others. Overall, ML has the potential to significantly transform the way we live and work, by enabling machines to perform tasks that traditionally required human intelligence.\u001b[0m\n",
            "\u001b[33;1m\u001b[1;3m1. **Different Types of Machine Learning Algorithms:** Supervised, unsupervised, and reinforcement learning are the three main categories of ML algorithms. It's important to understand the differences between these types and when to use each one. For example, supervised learning is useful when you have a clear outcome or label for your data, while unsupervised learning is helpful when you want to discover hidden patterns or structures in your data without any pre-existing labels. Reinforcement learning, on the other hand, is useful in situations where an agent learns to make decisions by interacting with an environment and receiving feedback in the form of rewards or penalties.\n",
            "\n",
            "2. **Real-World Applications of Machine Learning:** ML has a wide range of applications in various industries, such as healthcare, finance, e-commerce, social media, and transportation. In healthcare, ML can be used for predicting disease outcomes, personalizing treatment plans, and detecting anomalies in medical images. In finance, ML can help with fraud detection, credit scoring, and algorithmic trading. In e-commerce and social media, ML powers recommendation systems, sentiment analysis, and content moderation. In transportation, ML enables autonomous driving, traffic prediction, and demand forecasting. Understanding these applications can help you appreciate the transformative potential of ML in different fields.\n",
            "\n",
            "3. **Ethical and Societal Implications of Machine Learning:** As ML becomes more prevalent, it's crucial to consider the ethical and societal implications of this technology. Issues such as bias, privacy, transparency, fairness, and accountability need to be addressed. For example, ML models can inadvertently perpetuate existing biases in the data, leading to discriminatory outcomes. Additionally, the use of ML in surveillance and decision-making can raise privacy concerns. It's essential to develop and deploy ML systems responsibly, taking into account these ethical considerations and working towards building trust with stakeholders.\u001b[0m\n",
            "\u001b[38;5;200m\u001b[1;3m1. **Different Types of Machine Learning Algorithms:**\n",
            "   - Supervised Learning: This type of algorithm involves training a model using labeled data, where each input has a corresponding output or target variable. The goal is to learn a mapping between inputs and outputs, enabling the model to make accurate predictions on new, unseen data. Supervised learning is commonly used for regression (predicting continuous values) and classification (categorizing inputs into discrete classes) tasks.\n",
            "   - Unsupervised Learning: In unsupervised learning, the algorithm works with unlabeled data, meaning there are no pre-defined target variables. The goal here is to discover underlying patterns, structures, or relationships within the data. Unsupervised learning techniques include clustering (grouping similar data points), dimensionality reduction (projecting high-dimensional data into lower-dimensional space), and anomaly detection (identifying unusual or rare data points).\n",
            "   - Reinforcement Learning: Reinforcement learning focuses on training an agent to make decisions by interacting with an environment. The agent learns through trial and error, receiving feedback in the form of rewards or penalties. The objective is to maximize the cumulative reward over time, leading the agent to develop an optimal policy for decision-making.\n",
            "\n",
            "2. **Real-World Applications of Machine Learning:**\n",
            "   - Healthcare: ML can help predict disease outcomes, assist in diagnosis, personalize treatment plans, and monitor patient health. It can also be used for drug discovery, genomics, and medical imaging analysis.\n",
            "   - Finance: ML has applications in fraud detection, credit scoring, algorithmic trading, portfolio management, and risk assessment. It can also help with anti-money laundering, compliance, and customer segmentation.\n",
            "   - E-commerce and Social Media: ML powers recommendation systems, content personalization, search engines, sentiment analysis, spam filtering, and customer support. It also enables fraud detection, bot detection, and content moderation.\n",
            "   - Transportation: ML is used in autonomous driving, traffic prediction, demand forecasting, route optimization, and vehicle maintenance. It can also assist in public transportation planning, accident prevention, and insurance claims processing.\n",
            "\n",
            "3. **Ethical and Societal Implications of Machine Learning:**\n",
            "   - Bias: ML models can perpetuate and amplify existing biases in the data, leading to discriminatory outcomes. Efforts should be made to identify and mitigate bias during data collection, model training, and deployment.\n",
            "   - Privacy: The use of ML in surveillance and decision-making can raise concerns about individual privacy. Data anonymization, differential privacy, and secure multi-party computation are techniques that can help protect privacy while still enabling ML applications.\n",
            "   - Transparency: ML models can sometimes be difficult to interpret or understand, making it challenging to explain their decision-making processes. Explainable AI (XAI) aims to develop models that are more transparent and interpretable, fostering trust and accountability.\n",
            "   - Fairness: Ensuring that ML models treat all individuals fairly and equitably is essential. This involves not only addressing bias but also considering issues of representativeness, individual vs. group fairness, and potential unintended consequences.\n",
            "   - Accountability: Establishing clear lines of accountability for ML model outcomes is crucial. This includes determining responsibility for model development, deployment, monitoring, and maintenance, as well as addressing any negative consequences or harms that may arise.\u001b[0m\n",
            "\n",
            "\u001b[1m> Finished chain.\u001b[0m\n",
            "1. **Different Types of Machine Learning Algorithms:**\n",
            "   - Supervised Learning: This type of algorithm involves training a model using labeled data, where each input has a corresponding output or target variable. The goal is to learn a mapping between inputs and outputs, enabling the model to make accurate predictions on new, unseen data. Supervised learning is commonly used for regression (predicting continuous values) and classification (categorizing inputs into discrete classes) tasks.\n",
            "   - Unsupervised Learning: In unsupervised learning, the algorithm works with unlabeled data, meaning there are no pre-defined target variables. The goal here is to discover underlying patterns, structures, or relationships within the data. Unsupervised learning techniques include clustering (grouping similar data points), dimensionality reduction (projecting high-dimensional data into lower-dimensional space), and anomaly detection (identifying unusual or rare data points).\n",
            "   - Reinforcement Learning: Reinforcement learning focuses on training an agent to make decisions by interacting with an environment. The agent learns through trial and error, receiving feedback in the form of rewards or penalties. The objective is to maximize the cumulative reward over time, leading the agent to develop an optimal policy for decision-making.\n",
            "\n",
            "2. **Real-World Applications of Machine Learning:**\n",
            "   - Healthcare: ML can help predict disease outcomes, assist in diagnosis, personalize treatment plans, and monitor patient health. It can also be used for drug discovery, genomics, and medical imaging analysis.\n",
            "   - Finance: ML has applications in fraud detection, credit scoring, algorithmic trading, portfolio management, and risk assessment. It can also help with anti-money laundering, compliance, and customer segmentation.\n",
            "   - E-commerce and Social Media: ML powers recommendation systems, content personalization, search engines, sentiment analysis, spam filtering, and customer support. It also enables fraud detection, bot detection, and content moderation.\n",
            "   - Transportation: ML is used in autonomous driving, traffic prediction, demand forecasting, route optimization, and vehicle maintenance. It can also assist in public transportation planning, accident prevention, and insurance claims processing.\n",
            "\n",
            "3. **Ethical and Societal Implications of Machine Learning:**\n",
            "   - Bias: ML models can perpetuate and amplify existing biases in the data, leading to discriminatory outcomes. Efforts should be made to identify and mitigate bias during data collection, model training, and deployment.\n",
            "   - Privacy: The use of ML in surveillance and decision-making can raise concerns about individual privacy. Data anonymization, differential privacy, and secure multi-party computation are techniques that can help protect privacy while still enabling ML applications.\n",
            "   - Transparency: ML models can sometimes be difficult to interpret or understand, making it challenging to explain their decision-making processes. Explainable AI (XAI) aims to develop models that are more transparent and interpretable, fostering trust and accountability.\n",
            "   - Fairness: Ensuring that ML models treat all individuals fairly and equitably is essential. This involves not only addressing bias but also considering issues of representativeness, individual vs. group fairness, and potential unintended consequences.\n",
            "   - Accountability: Establishing clear lines of accountability for ML model outcomes is crucial. This includes determining responsibility for model development, deployment, monitoring, and maintenance, as well as addressing any negative consequences or harms that may arise.\n"
          ]
        }
      ]
    }
  ]
}